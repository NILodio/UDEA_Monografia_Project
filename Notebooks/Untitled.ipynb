{
 "cells": [
  {
   "cell_type": "code",
   "execution_count": 1,
   "id": "2d831cc6",
   "metadata": {},
   "outputs": [],
   "source": [
    "import xml.etree.ElementTree as ET\n",
    "import matplotlib.pyplot as plt\n",
    "import pandas as pd\n",
    "import numpy as np\n",
    "from PIL import Image\n",
    "import os\n",
    "import uuid\n",
    "import json\n",
    "import tensorflow as tf\n",
    "from sklearn.model_selection import train_test_split\n",
    "import importlib \n",
    "import os\n",
    "import glob\n",
    "import pandas as pd\n",
    "import xml.etree.ElementTree as ET\n",
    "from sklearn.model_selection import train_test_split"
   ]
  },
  {
   "cell_type": "code",
   "execution_count": 8,
   "id": "5e06ec5c",
   "metadata": {},
   "outputs": [],
   "source": [
    "model = tf.saved_model.load(\"../models/wd_tranfer_learning\")"
   ]
  },
  {
   "cell_type": "code",
   "execution_count": 12,
   "id": "9fe2b0ef",
   "metadata": {},
   "outputs": [
    {
     "data": {
      "text/plain": [
       "_SignatureMap({'serving_default': <ConcreteFunction signature_wrapper(*, input_tensor) at 0x2AD3AB36E20>})"
      ]
     },
     "execution_count": 12,
     "metadata": {},
     "output_type": "execute_result"
    }
   ],
   "source": [
    "model.signatures"
   ]
  },
  {
   "cell_type": "code",
   "execution_count": null,
   "id": "8c356a94",
   "metadata": {},
   "outputs": [],
   "source": []
  }
 ],
 "metadata": {
  "kernelspec": {
   "display_name": "Python 3",
   "language": "python",
   "name": "python3"
  },
  "language_info": {
   "codemirror_mode": {
    "name": "ipython",
    "version": 3
   },
   "file_extension": ".py",
   "mimetype": "text/x-python",
   "name": "python",
   "nbconvert_exporter": "python",
   "pygments_lexer": "ipython3",
   "version": "3.8.10"
  }
 },
 "nbformat": 4,
 "nbformat_minor": 5
}
